{
 "cells": [
  {
   "cell_type": "markdown",
   "metadata": {},
   "source": [
    "#### 0.Required Libraries"
   ]
  },
  {
   "cell_type": "code",
   "execution_count": 1,
   "metadata": {},
   "outputs": [],
   "source": [
    "import numpy as np\n",
    "import pandas as pd\n",
    "import os\n",
    "import math\n",
    "import matplotlib.pyplot as plt\n",
    "import statsmodels.api as stm\n",
    "import scipy.stats as stats\n",
    "import sklearn\n",
    "import seaborn as sns"
   ]
  },
  {
   "cell_type": "markdown",
   "metadata": {},
   "source": [
    "#### 1. Reading data"
   ]
  },
  {
   "cell_type": "code",
   "execution_count": 2,
   "metadata": {},
   "outputs": [],
   "source": [
    "os.chdir\n",
    "insurance = pd.read_csv(\"C://Users//shubh//Downloads//insurance.csv\")"
   ]
  },
  {
   "cell_type": "code",
   "execution_count": 3,
   "metadata": {},
   "outputs": [
    {
     "data": {
      "text/plain": [
       "Index(['age', 'sex', 'bmi', 'children', 'smoker', 'region', 'charges'], dtype='object')"
      ]
     },
     "execution_count": 3,
     "metadata": {},
     "output_type": "execute_result"
    }
   ],
   "source": [
    "insurance.columns\n"
   ]
  },
  {
   "cell_type": "code",
   "execution_count": null,
   "metadata": {},
   "outputs": [],
   "source": []
  },
  {
   "cell_type": "code",
   "execution_count": 4,
   "metadata": {},
   "outputs": [
    {
     "data": {
      "text/html": [
       "<div>\n",
       "<style scoped>\n",
       "    .dataframe tbody tr th:only-of-type {\n",
       "        vertical-align: middle;\n",
       "    }\n",
       "\n",
       "    .dataframe tbody tr th {\n",
       "        vertical-align: top;\n",
       "    }\n",
       "\n",
       "    .dataframe thead th {\n",
       "        text-align: right;\n",
       "    }\n",
       "</style>\n",
       "<table border=\"1\" class=\"dataframe\">\n",
       "  <thead>\n",
       "    <tr style=\"text-align: right;\">\n",
       "      <th></th>\n",
       "      <th>age</th>\n",
       "      <th>sex</th>\n",
       "      <th>bmi</th>\n",
       "      <th>children</th>\n",
       "      <th>smoker</th>\n",
       "      <th>region</th>\n",
       "      <th>charges</th>\n",
       "    </tr>\n",
       "  </thead>\n",
       "  <tbody>\n",
       "    <tr>\n",
       "      <th>835</th>\n",
       "      <td>42</td>\n",
       "      <td>male</td>\n",
       "      <td>35.970</td>\n",
       "      <td>2</td>\n",
       "      <td>no</td>\n",
       "      <td>southeast</td>\n",
       "      <td>7160.33030</td>\n",
       "    </tr>\n",
       "    <tr>\n",
       "      <th>807</th>\n",
       "      <td>19</td>\n",
       "      <td>female</td>\n",
       "      <td>36.575</td>\n",
       "      <td>0</td>\n",
       "      <td>no</td>\n",
       "      <td>northwest</td>\n",
       "      <td>2136.88225</td>\n",
       "    </tr>\n",
       "    <tr>\n",
       "      <th>1316</th>\n",
       "      <td>19</td>\n",
       "      <td>female</td>\n",
       "      <td>20.600</td>\n",
       "      <td>0</td>\n",
       "      <td>no</td>\n",
       "      <td>southwest</td>\n",
       "      <td>1731.67700</td>\n",
       "    </tr>\n",
       "    <tr>\n",
       "      <th>1189</th>\n",
       "      <td>23</td>\n",
       "      <td>female</td>\n",
       "      <td>28.000</td>\n",
       "      <td>0</td>\n",
       "      <td>no</td>\n",
       "      <td>southwest</td>\n",
       "      <td>13126.67745</td>\n",
       "    </tr>\n",
       "    <tr>\n",
       "      <th>1245</th>\n",
       "      <td>28</td>\n",
       "      <td>male</td>\n",
       "      <td>24.300</td>\n",
       "      <td>5</td>\n",
       "      <td>no</td>\n",
       "      <td>southwest</td>\n",
       "      <td>5615.36900</td>\n",
       "    </tr>\n",
       "  </tbody>\n",
       "</table>\n",
       "</div>"
      ],
      "text/plain": [
       "      age     sex     bmi  children smoker     region      charges\n",
       "835    42    male  35.970         2     no  southeast   7160.33030\n",
       "807    19  female  36.575         0     no  northwest   2136.88225\n",
       "1316   19  female  20.600         0     no  southwest   1731.67700\n",
       "1189   23  female  28.000         0     no  southwest  13126.67745\n",
       "1245   28    male  24.300         5     no  southwest   5615.36900"
      ]
     },
     "execution_count": 4,
     "metadata": {},
     "output_type": "execute_result"
    }
   ],
   "source": [
    "insurance.sample(5)"
   ]
  },
  {
   "cell_type": "code",
   "execution_count": 5,
   "metadata": {},
   "outputs": [
    {
     "data": {
      "text/plain": [
       "(1338, 7)"
      ]
     },
     "execution_count": 5,
     "metadata": {},
     "output_type": "execute_result"
    }
   ],
   "source": [
    "insurance.shape"
   ]
  },
  {
   "cell_type": "code",
   "execution_count": 6,
   "metadata": {},
   "outputs": [],
   "source": [
    "corrplt = insurance.corr()"
   ]
  },
  {
   "cell_type": "code",
   "execution_count": 7,
   "metadata": {},
   "outputs": [
    {
     "data": {
      "text/html": [
       "<style  type=\"text/css\" >\n",
       "    #T_94719136_fa0d_11e9_aec3_544810ed50d3row0_col0 {\n",
       "            background-color:  #b40426;\n",
       "            color:  #f1f1f1;\n",
       "        }    #T_94719136_fa0d_11e9_aec3_544810ed50d3row0_col1 {\n",
       "            background-color:  #5977e3;\n",
       "            color:  #000000;\n",
       "        }    #T_94719136_fa0d_11e9_aec3_544810ed50d3row0_col2 {\n",
       "            background-color:  #4358cb;\n",
       "            color:  #f1f1f1;\n",
       "        }    #T_94719136_fa0d_11e9_aec3_544810ed50d3row0_col3 {\n",
       "            background-color:  #8caffe;\n",
       "            color:  #000000;\n",
       "        }    #T_94719136_fa0d_11e9_aec3_544810ed50d3row1_col0 {\n",
       "            background-color:  #4f69d9;\n",
       "            color:  #000000;\n",
       "        }    #T_94719136_fa0d_11e9_aec3_544810ed50d3row1_col1 {\n",
       "            background-color:  #b40426;\n",
       "            color:  #f1f1f1;\n",
       "        }    #T_94719136_fa0d_11e9_aec3_544810ed50d3row1_col2 {\n",
       "            background-color:  #3b4cc0;\n",
       "            color:  #f1f1f1;\n",
       "        }    #T_94719136_fa0d_11e9_aec3_544810ed50d3row1_col3 {\n",
       "            background-color:  #6687ed;\n",
       "            color:  #000000;\n",
       "        }    #T_94719136_fa0d_11e9_aec3_544810ed50d3row2_col0 {\n",
       "            background-color:  #3b4cc0;\n",
       "            color:  #f1f1f1;\n",
       "        }    #T_94719136_fa0d_11e9_aec3_544810ed50d3row2_col1 {\n",
       "            background-color:  #3b4cc0;\n",
       "            color:  #f1f1f1;\n",
       "        }    #T_94719136_fa0d_11e9_aec3_544810ed50d3row2_col2 {\n",
       "            background-color:  #b40426;\n",
       "            color:  #f1f1f1;\n",
       "        }    #T_94719136_fa0d_11e9_aec3_544810ed50d3row2_col3 {\n",
       "            background-color:  #3b4cc0;\n",
       "            color:  #f1f1f1;\n",
       "        }    #T_94719136_fa0d_11e9_aec3_544810ed50d3row3_col0 {\n",
       "            background-color:  #93b5fe;\n",
       "            color:  #000000;\n",
       "        }    #T_94719136_fa0d_11e9_aec3_544810ed50d3row3_col1 {\n",
       "            background-color:  #779af7;\n",
       "            color:  #000000;\n",
       "        }    #T_94719136_fa0d_11e9_aec3_544810ed50d3row3_col2 {\n",
       "            background-color:  #4b64d5;\n",
       "            color:  #f1f1f1;\n",
       "        }    #T_94719136_fa0d_11e9_aec3_544810ed50d3row3_col3 {\n",
       "            background-color:  #b40426;\n",
       "            color:  #f1f1f1;\n",
       "        }</style><table id=\"T_94719136_fa0d_11e9_aec3_544810ed50d3\" ><thead>    <tr>        <th class=\"blank level0\" ></th>        <th class=\"col_heading level0 col0\" >age</th>        <th class=\"col_heading level0 col1\" >bmi</th>        <th class=\"col_heading level0 col2\" >children</th>        <th class=\"col_heading level0 col3\" >charges</th>    </tr></thead><tbody>\n",
       "                <tr>\n",
       "                        <th id=\"T_94719136_fa0d_11e9_aec3_544810ed50d3level0_row0\" class=\"row_heading level0 row0\" >age</th>\n",
       "                        <td id=\"T_94719136_fa0d_11e9_aec3_544810ed50d3row0_col0\" class=\"data row0 col0\" >1</td>\n",
       "                        <td id=\"T_94719136_fa0d_11e9_aec3_544810ed50d3row0_col1\" class=\"data row0 col1\" >0.11</td>\n",
       "                        <td id=\"T_94719136_fa0d_11e9_aec3_544810ed50d3row0_col2\" class=\"data row0 col2\" >0.042</td>\n",
       "                        <td id=\"T_94719136_fa0d_11e9_aec3_544810ed50d3row0_col3\" class=\"data row0 col3\" >0.3</td>\n",
       "            </tr>\n",
       "            <tr>\n",
       "                        <th id=\"T_94719136_fa0d_11e9_aec3_544810ed50d3level0_row1\" class=\"row_heading level0 row1\" >bmi</th>\n",
       "                        <td id=\"T_94719136_fa0d_11e9_aec3_544810ed50d3row1_col0\" class=\"data row1 col0\" >0.11</td>\n",
       "                        <td id=\"T_94719136_fa0d_11e9_aec3_544810ed50d3row1_col1\" class=\"data row1 col1\" >1</td>\n",
       "                        <td id=\"T_94719136_fa0d_11e9_aec3_544810ed50d3row1_col2\" class=\"data row1 col2\" >0.013</td>\n",
       "                        <td id=\"T_94719136_fa0d_11e9_aec3_544810ed50d3row1_col3\" class=\"data row1 col3\" >0.2</td>\n",
       "            </tr>\n",
       "            <tr>\n",
       "                        <th id=\"T_94719136_fa0d_11e9_aec3_544810ed50d3level0_row2\" class=\"row_heading level0 row2\" >children</th>\n",
       "                        <td id=\"T_94719136_fa0d_11e9_aec3_544810ed50d3row2_col0\" class=\"data row2 col0\" >0.042</td>\n",
       "                        <td id=\"T_94719136_fa0d_11e9_aec3_544810ed50d3row2_col1\" class=\"data row2 col1\" >0.013</td>\n",
       "                        <td id=\"T_94719136_fa0d_11e9_aec3_544810ed50d3row2_col2\" class=\"data row2 col2\" >1</td>\n",
       "                        <td id=\"T_94719136_fa0d_11e9_aec3_544810ed50d3row2_col3\" class=\"data row2 col3\" >0.068</td>\n",
       "            </tr>\n",
       "            <tr>\n",
       "                        <th id=\"T_94719136_fa0d_11e9_aec3_544810ed50d3level0_row3\" class=\"row_heading level0 row3\" >charges</th>\n",
       "                        <td id=\"T_94719136_fa0d_11e9_aec3_544810ed50d3row3_col0\" class=\"data row3 col0\" >0.3</td>\n",
       "                        <td id=\"T_94719136_fa0d_11e9_aec3_544810ed50d3row3_col1\" class=\"data row3 col1\" >0.2</td>\n",
       "                        <td id=\"T_94719136_fa0d_11e9_aec3_544810ed50d3row3_col2\" class=\"data row3 col2\" >0.068</td>\n",
       "                        <td id=\"T_94719136_fa0d_11e9_aec3_544810ed50d3row3_col3\" class=\"data row3 col3\" >1</td>\n",
       "            </tr>\n",
       "    </tbody></table>"
      ],
      "text/plain": [
       "<pandas.io.formats.style.Styler at 0x1553b9aee80>"
      ]
     },
     "execution_count": 7,
     "metadata": {},
     "output_type": "execute_result"
    }
   ],
   "source": [
    "#correlation heat map\n",
    "\n",
    "#f, ax = plt.subplots(figsize =(8,6)) \n",
    "#sns.heatmap(corrplt, ax = ax, cmap =\"YlGnBu\", linewidths = 0.1)\n",
    "\n",
    "corrplt.style.background_gradient(cmap='coolwarm').set_precision(2)"
   ]
  },
  {
   "cell_type": "code",
   "execution_count": 10,
   "metadata": {},
   "outputs": [
    {
     "data": {
      "text/html": [
       "<div>\n",
       "<style scoped>\n",
       "    .dataframe tbody tr th:only-of-type {\n",
       "        vertical-align: middle;\n",
       "    }\n",
       "\n",
       "    .dataframe tbody tr th {\n",
       "        vertical-align: top;\n",
       "    }\n",
       "\n",
       "    .dataframe thead th {\n",
       "        text-align: right;\n",
       "    }\n",
       "</style>\n",
       "<table border=\"1\" class=\"dataframe\">\n",
       "  <thead>\n",
       "    <tr style=\"text-align: right;\">\n",
       "      <th></th>\n",
       "      <th>age</th>\n",
       "      <th>sex</th>\n",
       "      <th>bmi</th>\n",
       "      <th>children</th>\n",
       "      <th>region</th>\n",
       "      <th>charges</th>\n",
       "      <th>smoker_yes</th>\n",
       "    </tr>\n",
       "  </thead>\n",
       "  <tbody>\n",
       "    <tr>\n",
       "      <th>0</th>\n",
       "      <td>19</td>\n",
       "      <td>female</td>\n",
       "      <td>27.900</td>\n",
       "      <td>0</td>\n",
       "      <td>southwest</td>\n",
       "      <td>16884.92400</td>\n",
       "      <td>1</td>\n",
       "    </tr>\n",
       "    <tr>\n",
       "      <th>1</th>\n",
       "      <td>18</td>\n",
       "      <td>male</td>\n",
       "      <td>33.770</td>\n",
       "      <td>1</td>\n",
       "      <td>southeast</td>\n",
       "      <td>1725.55230</td>\n",
       "      <td>0</td>\n",
       "    </tr>\n",
       "    <tr>\n",
       "      <th>2</th>\n",
       "      <td>28</td>\n",
       "      <td>male</td>\n",
       "      <td>33.000</td>\n",
       "      <td>3</td>\n",
       "      <td>southeast</td>\n",
       "      <td>4449.46200</td>\n",
       "      <td>0</td>\n",
       "    </tr>\n",
       "    <tr>\n",
       "      <th>3</th>\n",
       "      <td>33</td>\n",
       "      <td>male</td>\n",
       "      <td>22.705</td>\n",
       "      <td>0</td>\n",
       "      <td>northwest</td>\n",
       "      <td>21984.47061</td>\n",
       "      <td>0</td>\n",
       "    </tr>\n",
       "    <tr>\n",
       "      <th>4</th>\n",
       "      <td>32</td>\n",
       "      <td>male</td>\n",
       "      <td>28.880</td>\n",
       "      <td>0</td>\n",
       "      <td>northwest</td>\n",
       "      <td>3866.85520</td>\n",
       "      <td>0</td>\n",
       "    </tr>\n",
       "  </tbody>\n",
       "</table>\n",
       "</div>"
      ],
      "text/plain": [
       "   age     sex     bmi  children     region      charges  smoker_yes\n",
       "0   19  female  27.900         0  southwest  16884.92400           1\n",
       "1   18    male  33.770         1  southeast   1725.55230           0\n",
       "2   28    male  33.000         3  southeast   4449.46200           0\n",
       "3   33    male  22.705         0  northwest  21984.47061           0\n",
       "4   32    male  28.880         0  northwest   3866.85520           0"
      ]
     },
     "execution_count": 10,
     "metadata": {},
     "output_type": "execute_result"
    }
   ],
   "source": [
    "# creating dummy variables for smoker\n",
    "#catColumns = [‘sex’, ‘smoker’, ‘region’]\n",
    "data_dum = pd.get_dummies(insurance, columns = ['smoker'], drop_first=True)\n",
    "data_dum.head()"
   ]
  },
  {
   "cell_type": "code",
   "execution_count": null,
   "metadata": {},
   "outputs": [],
   "source": []
  },
  {
   "cell_type": "markdown",
   "metadata": {},
   "source": [
    "#### 2. Objective\n",
    "##### To predict the charges of insurance based on age\n",
    "##### Target variable - charges\n",
    "#####  Explanatory variable - age, bmi"
   ]
  },
  {
   "cell_type": "markdown",
   "metadata": {},
   "source": [
    "#### 3. Understanding the variable\n",
    "\n",
    "##### Variable - Charges"
   ]
  },
  {
   "cell_type": "code",
   "execution_count": null,
   "metadata": {},
   "outputs": [],
   "source": [
    "# Histogram of the variable charges\n",
    "\n",
    "insurance.charges.hist(grid = False, color = 'LightBlue', edgecolor = 'White', bins = 10)\n",
    "plt.xlabel(\"Charges of Insurance\")\n",
    "plt.ylabel(\"No. of holders in a bin\")\n",
    "plt.title(\"Insurance\")\n",
    "plt.show()"
   ]
  },
  {
   "cell_type": "code",
   "execution_count": null,
   "metadata": {},
   "outputs": [],
   "source": [
    "insurance.boxplot(column=\"charges\", notch=True, vert=False, grid=False)\n",
    "plt.xlabel(\"Cost of Insurance\")\n",
    "plt.show()"
   ]
  },
  {
   "cell_type": "code",
   "execution_count": null,
   "metadata": {},
   "outputs": [],
   "source": [
    "insurance[\"charges\"].describe()"
   ]
  },
  {
   "cell_type": "markdown",
   "metadata": {},
   "source": [
    "##### Variable - Age"
   ]
  },
  {
   "cell_type": "code",
   "execution_count": null,
   "metadata": {},
   "outputs": [],
   "source": [
    "insurance.age.hist(grid=False, color=\"Orange\", edgecolor=\"White\", bins=10)\n",
    "plt.xlabel(\"Age of the Insured\")\n",
    "plt.ylabel(\"No. of people\")\n",
    "plt.title(\"age\")\n",
    "plt.show()"
   ]
  },
  {
   "cell_type": "code",
   "execution_count": null,
   "metadata": {},
   "outputs": [],
   "source": [
    "insurance.boxplot(column=\"age\", notch=True, grid=False, vert=False)\n",
    "plt.show()"
   ]
  },
  {
   "cell_type": "code",
   "execution_count": null,
   "metadata": {},
   "outputs": [],
   "source": [
    "insurance[\"age\"].describe()"
   ]
  },
  {
   "cell_type": "markdown",
   "metadata": {},
   "source": [
    "##### Variable - BMI"
   ]
  },
  {
   "cell_type": "code",
   "execution_count": null,
   "metadata": {},
   "outputs": [],
   "source": [
    "insurance.bmi.hist(grid=False, color=\"LightBlue\", edgecolor=\"White\", bins=10)\n",
    "plt.xlabel(\"BMI of the Insured\")\n",
    "plt.ylabel(\"No. of people\")\n",
    "plt.title(\"bmi\")\n",
    "plt.show()"
   ]
  },
  {
   "cell_type": "code",
   "execution_count": null,
   "metadata": {},
   "outputs": [],
   "source": [
    "insurance.boxplot(column=\"bmi\", notch=True, grid=False, vert=False)\n",
    "plt.show()"
   ]
  },
  {
   "cell_type": "code",
   "execution_count": null,
   "metadata": {},
   "outputs": [],
   "source": [
    "insurance[\"bmi\"].describe()"
   ]
  },
  {
   "cell_type": "markdown",
   "metadata": {},
   "source": [
    "#### 4. Association between target and explanatory variables"
   ]
  },
  {
   "cell_type": "code",
   "execution_count": null,
   "metadata": {},
   "outputs": [],
   "source": [
    "# plotting the scatterplot with age and charges\n",
    "insurance.plot(kind=\"Scatter\", x=\"age\", y =\"charges\", color='Blue', figsize=(8,6))\n",
    "plt.xlabel(\"Age of the Insured\")\n",
    "plt.ylabel(\"Charges of the Insurance\")\n",
    "plt.title(\"Scatterplot of charges against age\")\n",
    "plt.show()"
   ]
  },
  {
   "cell_type": "code",
   "execution_count": null,
   "metadata": {},
   "outputs": [],
   "source": [
    "insurance[['charges','age']].describe()"
   ]
  },
  {
   "cell_type": "code",
   "execution_count": 11,
   "metadata": {},
   "outputs": [
    {
     "data": {
      "image/png": "[encoded data removed]",
      "text/plain": [
       "<Figure size 576x432 with 1 Axes>"
      ]
     },
     "metadata": {
      "needs_background": "light"
     },
     "output_type": "display_data"
    }
   ],
   "source": [
    "# plotting the scatterplot with bmi and charges\n",
    "insurance.plot(kind=\"Scatter\", x=\"bmi\", y =\"charges\", color='Blue', figsize=(8,6))\n",
    "plt.xlabel(\"Age of the Insured\")\n",
    "plt.ylabel(\"Charges of the Insurance\")\n",
    "plt.title(\"Scatterplot of charges against age\")\n",
    "plt.show()"
   ]
  },
  {
   "cell_type": "code",
   "execution_count": null,
   "metadata": {},
   "outputs": [],
   "source": [
    "insurance[['charges','bmi']].describe()"
   ]
  },
  {
   "cell_type": "code",
   "execution_count": 18,
   "metadata": {},
   "outputs": [
    {
     "data": {
      "image/png": "[encoded data removed]",
      "text/plain": [
       "<Figure size 432x288 with 1 Axes>"
      ]
     },
     "metadata": {
      "needs_background": "light"
     },
     "output_type": "display_data"
    }
   ],
   "source": [
    "# relation with smoker\n",
    "#insurance.plot(kind=\"Scatter\", x=\"smoker_yes\", y =\"charges\", color='Blue', figsize=(8,6))\n",
    "insurance.groupby([\"smoker\"])[\"charges\"].sum().plot.bar()\n",
    "#plt.subplot(2,2,3)\n",
    "plt.xlabel(\"Smokers\")\n",
    "plt.ylabel(\"Charges of the Insurance\")\n",
    "plt.title(\"Scatterplot of charges against smokers\")\n",
    "plt.show()"
   ]
  },
  {
   "cell_type": "markdown",
   "metadata": {},
   "source": [
    "##### Notes : Positive association "
   ]
  },
  {
   "cell_type": "markdown",
   "metadata": {},
   "source": [
    "#### 5. Splitting train and test data"
   ]
  },
  {
   "cell_type": "code",
   "execution_count": 21,
   "metadata": {},
   "outputs": [],
   "source": [
    "# Randomly divide the data into training - 70% and test - 30%\n",
    "\n",
    "#Select 70% of 1338 random numbers without replacement --> 0.70*1338\n",
    "#using seed to use the same set of random numbers later\n",
    "np.random.seed(0)\n",
    "train = np.random.choice(insurance.index, round(0.7*1338), replace=False)\n",
    "train.sort()\n",
    "#train"
   ]
  },
  {
   "cell_type": "code",
   "execution_count": 28,
   "metadata": {},
   "outputs": [],
   "source": [
    "# Selecting observations from the randomised index\n",
    "\n",
    "\n",
    "X_train = data_dum.loc[train,['age','bmi','smoker_yes']]\n",
    "Y_train = data_dum.loc[train, 'charges']\n",
    "\n",
    "# Hence, training data is split"
   ]
  },
  {
   "cell_type": "code",
   "execution_count": 23,
   "metadata": {},
   "outputs": [],
   "source": [
    "# Now select the indices for test data\n",
    "# which is the remaining 30% of 1338, observations other than those selected in training data\n",
    "\n",
    "test = []\n",
    "\n",
    "for i in list(insurance.index):\n",
    "    if i not in train:\n",
    "        test.append(i)\n",
    "        \n",
    "test = np.array(test)\n",
    "test.sort()\n",
    "#test"
   ]
  },
  {
   "cell_type": "code",
   "execution_count": 31,
   "metadata": {},
   "outputs": [],
   "source": [
    "# We now have the indices for test data\n",
    "# Select the observations into test \n",
    "\n",
    "X_test = data_dum.loc[test,['age','bmi','smoker_yes']]\n",
    "Y_test = data_dum.loc[test,'charges']\n",
    "\n",
    "# Hence, we also have the test data ready now"
   ]
  },
  {
   "cell_type": "code",
   "execution_count": null,
   "metadata": {},
   "outputs": [],
   "source": [
    "# checks\n",
    "print(len(test))\n",
    "print(len(train))\n",
    "print(len(train)+len(test))"
   ]
  },
  {
   "cell_type": "markdown",
   "metadata": {},
   "source": [
    "#### 6. Fitting the Simple Linear Regression Model"
   ]
  },
  {
   "cell_type": "code",
   "execution_count": null,
   "metadata": {},
   "outputs": [],
   "source": [
    "# add_constant() --> adding a column of ones to the data set"
   ]
  },
  {
   "cell_type": "code",
   "execution_count": 29,
   "metadata": {},
   "outputs": [
    {
     "name": "stderr",
     "output_type": "stream",
     "text": [
      "C:\\ProgramData\\Anaconda3\\lib\\site-packages\\numpy\\core\\fromnumeric.py:2389: FutureWarning: Method .ptp is deprecated and will be removed in a future version. Use numpy.ptp instead.\n",
      "  return ptp(axis=axis, out=out, **kwargs)\n"
     ]
    },
    {
     "data": {
      "text/html": [
       "<div>\n",
       "<style scoped>\n",
       "    .dataframe tbody tr th:only-of-type {\n",
       "        vertical-align: middle;\n",
       "    }\n",
       "\n",
       "    .dataframe tbody tr th {\n",
       "        vertical-align: top;\n",
       "    }\n",
       "\n",
       "    .dataframe thead th {\n",
       "        text-align: right;\n",
       "    }\n",
       "</style>\n",
       "<table border=\"1\" class=\"dataframe\">\n",
       "  <thead>\n",
       "    <tr style=\"text-align: right;\">\n",
       "      <th></th>\n",
       "      <th>const</th>\n",
       "      <th>age</th>\n",
       "      <th>bmi</th>\n",
       "      <th>smoker_yes</th>\n",
       "    </tr>\n",
       "  </thead>\n",
       "  <tbody>\n",
       "    <tr>\n",
       "      <th>0</th>\n",
       "      <td>1.0</td>\n",
       "      <td>19</td>\n",
       "      <td>27.900</td>\n",
       "      <td>1</td>\n",
       "    </tr>\n",
       "    <tr>\n",
       "      <th>1</th>\n",
       "      <td>1.0</td>\n",
       "      <td>18</td>\n",
       "      <td>33.770</td>\n",
       "      <td>0</td>\n",
       "    </tr>\n",
       "    <tr>\n",
       "      <th>2</th>\n",
       "      <td>1.0</td>\n",
       "      <td>28</td>\n",
       "      <td>33.000</td>\n",
       "      <td>0</td>\n",
       "    </tr>\n",
       "    <tr>\n",
       "      <th>3</th>\n",
       "      <td>1.0</td>\n",
       "      <td>33</td>\n",
       "      <td>22.705</td>\n",
       "      <td>0</td>\n",
       "    </tr>\n",
       "    <tr>\n",
       "      <th>5</th>\n",
       "      <td>1.0</td>\n",
       "      <td>31</td>\n",
       "      <td>25.740</td>\n",
       "      <td>0</td>\n",
       "    </tr>\n",
       "  </tbody>\n",
       "</table>\n",
       "</div>"
      ],
      "text/plain": [
       "   const  age     bmi  smoker_yes\n",
       "0    1.0   19  27.900           1\n",
       "1    1.0   18  33.770           0\n",
       "2    1.0   28  33.000           0\n",
       "3    1.0   33  22.705           0\n",
       "5    1.0   31  25.740           0"
      ]
     },
     "execution_count": 29,
     "metadata": {},
     "output_type": "execute_result"
    }
   ],
   "source": [
    "X_train = stm.add_constant(X_train)\n",
    "X_train.head()"
   ]
  },
  {
   "cell_type": "code",
   "execution_count": null,
   "metadata": {},
   "outputs": [],
   "source": []
  },
  {
   "cell_type": "code",
   "execution_count": 30,
   "metadata": {},
   "outputs": [
    {
     "data": {
      "text/html": [
       "<table class=\"simpletable\">\n",
       "<caption>OLS Regression Results</caption>\n",
       "<tr>\n",
       "  <th>Dep. Variable:</th>         <td>charges</td>     <th>  R-squared:         </th> <td>   0.762</td> \n",
       "</tr>\n",
       "<tr>\n",
       "  <th>Model:</th>                   <td>OLS</td>       <th>  Adj. R-squared:    </th> <td>   0.762</td> \n",
       "</tr>\n",
       "<tr>\n",
       "  <th>Method:</th>             <td>Least Squares</td>  <th>  F-statistic:       </th> <td>   998.0</td> \n",
       "</tr>\n",
       "<tr>\n",
       "  <th>Date:</th>             <td>Tue, 29 Oct 2019</td> <th>  Prob (F-statistic):</th> <td>1.38e-290</td>\n",
       "</tr>\n",
       "<tr>\n",
       "  <th>Time:</th>                 <td>11:28:00</td>     <th>  Log-Likelihood:    </th> <td> -9455.9</td> \n",
       "</tr>\n",
       "<tr>\n",
       "  <th>No. Observations:</th>      <td>   937</td>      <th>  AIC:               </th> <td>1.892e+04</td>\n",
       "</tr>\n",
       "<tr>\n",
       "  <th>Df Residuals:</th>          <td>   933</td>      <th>  BIC:               </th> <td>1.894e+04</td>\n",
       "</tr>\n",
       "<tr>\n",
       "  <th>Df Model:</th>              <td>     3</td>      <th>                     </th>     <td> </td>    \n",
       "</tr>\n",
       "<tr>\n",
       "  <th>Covariance Type:</th>      <td>nonrobust</td>    <th>                     </th>     <td> </td>    \n",
       "</tr>\n",
       "</table>\n",
       "<table class=\"simpletable\">\n",
       "<tr>\n",
       "       <td></td>         <th>coef</th>     <th>std err</th>      <th>t</th>      <th>P>|t|</th>  <th>[0.025</th>    <th>0.975]</th>  \n",
       "</tr>\n",
       "<tr>\n",
       "  <th>const</th>      <td>-1.116e+04</td> <td> 1084.953</td> <td>  -10.287</td> <td> 0.000</td> <td>-1.33e+04</td> <td>-9031.778</td>\n",
       "</tr>\n",
       "<tr>\n",
       "  <th>age</th>        <td>  272.8504</td> <td>   13.575</td> <td>   20.099</td> <td> 0.000</td> <td>  246.209</td> <td>  299.492</td>\n",
       "</tr>\n",
       "<tr>\n",
       "  <th>bmi</th>        <td>  286.8132</td> <td>   32.012</td> <td>    8.960</td> <td> 0.000</td> <td>  223.989</td> <td>  349.637</td>\n",
       "</tr>\n",
       "<tr>\n",
       "  <th>smoker_yes</th> <td> 2.406e+04</td> <td>  480.888</td> <td>   50.035</td> <td> 0.000</td> <td> 2.31e+04</td> <td>  2.5e+04</td>\n",
       "</tr>\n",
       "</table>\n",
       "<table class=\"simpletable\">\n",
       "<tr>\n",
       "  <th>Omnibus:</th>       <td>207.631</td> <th>  Durbin-Watson:     </th> <td>   2.067</td> \n",
       "</tr>\n",
       "<tr>\n",
       "  <th>Prob(Omnibus):</th> <td> 0.000</td>  <th>  Jarque-Bera (JB):  </th> <td> 508.677</td> \n",
       "</tr>\n",
       "<tr>\n",
       "  <th>Skew:</th>          <td> 1.168</td>  <th>  Prob(JB):          </th> <td>3.48e-111</td>\n",
       "</tr>\n",
       "<tr>\n",
       "  <th>Kurtosis:</th>      <td> 5.752</td>  <th>  Cond. No.          </th> <td>    288.</td> \n",
       "</tr>\n",
       "</table><br/><br/>Warnings:<br/>[1] Standard Errors assume that the covariance matrix of the errors is correctly specified."
      ],
      "text/plain": [
       "<class 'statsmodels.iolib.summary.Summary'>\n",
       "\"\"\"\n",
       "                            OLS Regression Results                            \n",
       "==============================================================================\n",
       "Dep. Variable:                charges   R-squared:                       0.762\n",
       "Model:                            OLS   Adj. R-squared:                  0.762\n",
       "Method:                 Least Squares   F-statistic:                     998.0\n",
       "Date:                Tue, 29 Oct 2019   Prob (F-statistic):          1.38e-290\n",
       "Time:                        11:28:00   Log-Likelihood:                -9455.9\n",
       "No. Observations:                 937   AIC:                         1.892e+04\n",
       "Df Residuals:                     933   BIC:                         1.894e+04\n",
       "Df Model:                           3                                         \n",
       "Covariance Type:            nonrobust                                         \n",
       "==============================================================================\n",
       "                 coef    std err          t      P>|t|      [0.025      0.975]\n",
       "------------------------------------------------------------------------------\n",
       "const      -1.116e+04   1084.953    -10.287      0.000   -1.33e+04   -9031.778\n",
       "age          272.8504     13.575     20.099      0.000     246.209     299.492\n",
       "bmi          286.8132     32.012      8.960      0.000     223.989     349.637\n",
       "smoker_yes  2.406e+04    480.888     50.035      0.000    2.31e+04     2.5e+04\n",
       "==============================================================================\n",
       "Omnibus:                      207.631   Durbin-Watson:                   2.067\n",
       "Prob(Omnibus):                  0.000   Jarque-Bera (JB):              508.677\n",
       "Skew:                           1.168   Prob(JB):                    3.48e-111\n",
       "Kurtosis:                       5.752   Cond. No.                         288.\n",
       "==============================================================================\n",
       "\n",
       "Warnings:\n",
       "[1] Standard Errors assume that the covariance matrix of the errors is correctly specified.\n",
       "\"\"\""
      ]
     },
     "execution_count": 30,
     "metadata": {},
     "output_type": "execute_result"
    }
   ],
   "source": [
    "# Find the constants\n",
    "# OLS method\n",
    "model = stm.OLS(Y_train,X_train).fit()\n",
    "model.summary()"
   ]
  },
  {
   "cell_type": "code",
   "execution_count": 32,
   "metadata": {},
   "outputs": [
    {
     "data": {
      "text/plain": [
       "const        -11161.009063\n",
       "age             272.850379\n",
       "bmi             286.813244\n",
       "smoker_yes    24061.210607\n",
       "dtype: float64"
      ]
     },
     "execution_count": 32,
     "metadata": {},
     "output_type": "execute_result"
    }
   ],
   "source": [
    "model.params"
   ]
  },
  {
   "cell_type": "markdown",
   "metadata": {},
   "source": [
    "The linear regression line for insurance charges wrt age is\n",
    "charges = -11161.009063 + 272.850379 * age + 286.813244 * bmi + 24061.210607 * smoker_yes\n",
    "\n",
    "## write the interpretation"
   ]
  },
  {
   "cell_type": "code",
   "execution_count": 39,
   "metadata": {},
   "outputs": [],
   "source": [
    "# consider the values of age in train data into an array \n",
    "\n",
    "age = np.sort(X_train.age)"
   ]
  },
  {
   "cell_type": "code",
   "execution_count": null,
   "metadata": {},
   "outputs": [],
   "source": [
    "# Plotting the linear regression line\n",
    "\n",
    "# scatter plot\n",
    "\n",
    "insurance.plot(kind='scatter', x='age', y='charges', color='lightblue', figsize= (8,6))\n",
    "plt.xlabel('Age of the insured')\n",
    "plt.ylabel('Charges of the insurance')\n",
    "plt.title('Charges - AGE')\n",
    "\n",
    "# sorted values of age in train data\n",
    "\n",
    "age = np.sort(X_train.age)\n",
    "\n",
    "# linear regression line --> predicted values of insurance charges\n",
    "plt.plot(age, model.params[0] + model.params[1]*age)\n",
    "\n",
    "plt.show()\n"
   ]
  },
  {
   "cell_type": "markdown",
   "metadata": {},
   "source": [
    "#### 7. Making Predictions on test data using the model"
   ]
  },
  {
   "cell_type": "code",
   "execution_count": 33,
   "metadata": {},
   "outputs": [
    {
     "name": "stderr",
     "output_type": "stream",
     "text": [
      "C:\\ProgramData\\Anaconda3\\lib\\site-packages\\numpy\\core\\fromnumeric.py:2389: FutureWarning: Method .ptp is deprecated and will be removed in a future version. Use numpy.ptp instead.\n",
      "  return ptp(axis=axis, out=out, **kwargs)\n"
     ]
    },
    {
     "data": {
      "text/html": [
       "<div>\n",
       "<style scoped>\n",
       "    .dataframe tbody tr th:only-of-type {\n",
       "        vertical-align: middle;\n",
       "    }\n",
       "\n",
       "    .dataframe tbody tr th {\n",
       "        vertical-align: top;\n",
       "    }\n",
       "\n",
       "    .dataframe thead th {\n",
       "        text-align: right;\n",
       "    }\n",
       "</style>\n",
       "<table border=\"1\" class=\"dataframe\">\n",
       "  <thead>\n",
       "    <tr style=\"text-align: right;\">\n",
       "      <th></th>\n",
       "      <th>const</th>\n",
       "      <th>age</th>\n",
       "      <th>bmi</th>\n",
       "      <th>smoker_yes</th>\n",
       "    </tr>\n",
       "  </thead>\n",
       "  <tbody>\n",
       "    <tr>\n",
       "      <th>4</th>\n",
       "      <td>1.0</td>\n",
       "      <td>32</td>\n",
       "      <td>28.88</td>\n",
       "      <td>0</td>\n",
       "    </tr>\n",
       "    <tr>\n",
       "      <th>7</th>\n",
       "      <td>1.0</td>\n",
       "      <td>37</td>\n",
       "      <td>27.74</td>\n",
       "      <td>0</td>\n",
       "    </tr>\n",
       "    <tr>\n",
       "      <th>11</th>\n",
       "      <td>1.0</td>\n",
       "      <td>62</td>\n",
       "      <td>26.29</td>\n",
       "      <td>1</td>\n",
       "    </tr>\n",
       "    <tr>\n",
       "      <th>13</th>\n",
       "      <td>1.0</td>\n",
       "      <td>56</td>\n",
       "      <td>39.82</td>\n",
       "      <td>0</td>\n",
       "    </tr>\n",
       "    <tr>\n",
       "      <th>23</th>\n",
       "      <td>1.0</td>\n",
       "      <td>34</td>\n",
       "      <td>31.92</td>\n",
       "      <td>1</td>\n",
       "    </tr>\n",
       "  </tbody>\n",
       "</table>\n",
       "</div>"
      ],
      "text/plain": [
       "    const  age    bmi  smoker_yes\n",
       "4     1.0   32  28.88           0\n",
       "7     1.0   37  27.74           0\n",
       "11    1.0   62  26.29           1\n",
       "13    1.0   56  39.82           0\n",
       "23    1.0   34  31.92           1"
      ]
     },
     "execution_count": 33,
     "metadata": {},
     "output_type": "execute_result"
    }
   ],
   "source": [
    "# add constant to test data\n",
    "\n",
    "X_test = stm.add_constant(X_test)\n",
    "X_test.head()"
   ]
  },
  {
   "cell_type": "code",
   "execution_count": 34,
   "metadata": {},
   "outputs": [
    {
     "data": {
      "text/plain": [
       "4      5853.369527\n",
       "7      6890.654323\n",
       "11    37357.245194\n",
       "13    15539.515500\n",
       "23    31332.193152\n",
       "24     6972.396097\n",
       "25    12887.626389\n",
       "28      100.797885\n",
       "29    31769.884022\n",
       "32     2226.006896\n",
       "dtype: float64"
      ]
     },
     "execution_count": 34,
     "metadata": {},
     "output_type": "execute_result"
    }
   ],
   "source": [
    "# Prediction\n",
    "# Model --> charges = 2724.57 + 263.87 * age\n",
    "\n",
    "model.predict(X_test)[:10]"
   ]
  },
  {
   "cell_type": "code",
   "execution_count": 35,
   "metadata": {},
   "outputs": [],
   "source": [
    "# storing the predicted values in an array\n",
    "\n",
    "pred_charges = model.predict(X_test)"
   ]
  },
  {
   "cell_type": "code",
   "execution_count": 36,
   "metadata": {},
   "outputs": [
    {
     "data": {
      "text/plain": [
       "4      3866.85520\n",
       "7      7281.50560\n",
       "11    27808.72510\n",
       "13    11090.71780\n",
       "23    37701.87680\n",
       "24     6203.90175\n",
       "25    14001.13380\n",
       "28     2775.19215\n",
       "29    38711.00000\n",
       "32     4687.79700\n",
       "Name: charges, dtype: float64"
      ]
     },
     "execution_count": 36,
     "metadata": {},
     "output_type": "execute_result"
    }
   ],
   "source": [
    "# actual Values of charges(Y) from test data\n",
    "\n",
    "Y_test[:10]"
   ]
  },
  {
   "cell_type": "markdown",
   "metadata": {},
   "source": [
    "#### 8. Checking the accuracy"
   ]
  },
  {
   "cell_type": "code",
   "execution_count": 37,
   "metadata": {},
   "outputs": [
    {
     "data": {
      "text/plain": [
       "39.299740409220334"
      ]
     },
     "execution_count": 37,
     "metadata": {},
     "output_type": "execute_result"
    }
   ],
   "source": [
    "# error = actual - predicted\n",
    "\n",
    "e = Y_test - pred_charges\n",
    "np.mean(e)"
   ]
  },
  {
   "cell_type": "code",
   "execution_count": 38,
   "metadata": {},
   "outputs": [
    {
     "data": {
      "text/plain": [
       "17646567456.59315"
      ]
     },
     "execution_count": 38,
     "metadata": {},
     "output_type": "execute_result"
    }
   ],
   "source": [
    "# calculating the RSS\n",
    "\n",
    "#e**2\n",
    "\n",
    "rss  = np.sum(e**2)\n",
    "rss"
   ]
  },
  {
   "cell_type": "code",
   "execution_count": null,
   "metadata": {},
   "outputs": [],
   "source": [
    "#rmse\n",
    "import math\n",
    "\n",
    "math.sqrt(sum(e**2)/(len(Y_test)-2))"
   ]
  }
 ],
 "metadata": {
  "kernelspec": {
   "display_name": "Python 3",
   "language": "python",
   "name": "python3"
  },
  "language_info": {
   "codemirror_mode": {
    "name": "ipython",
    "version": 3
   },
   "file_extension": ".py",
   "mimetype": "text/x-python",
   "name": "python",
   "nbconvert_exporter": "python",
   "pygments_lexer": "ipython3",
   "version": "3.7.3"
  }
 },
 "nbformat": 4,
 "nbformat_minor": 2
}
